{
 "cells": [
  {
   "cell_type": "markdown",
   "metadata": {},
   "source": [
    "# Batalla Naval\n",
    "\n",
    "## Hecho por:\n",
    "- Héctor Ulises Escoto González\n",
    "- Jorge Diego Sayavedra Godinez\n",
    "- Carlos Adrian Tinajero Velazco"
   ]
  },
  {
   "cell_type": "markdown",
   "metadata": {},
   "source": [
    "\n",
    "## Introducción:\n",
    "\n",
    "Las variadas aplicaciones que conllevan la utilización de metodos de resolución numérica a través de aproximaciónes matemáticas nos permiten conocer la solución de diversos ploblemas envueltos en la vida cotidiana, y así establecer una rigutosa metodología para crear programas que permitan resolver dichas problemàticas de una manera rápida y precisa.\n",
    "\n",
    "Es pues, el método no determinista o estadístico numérico de Montecarlo una solución que permite resolver problemas físicos y matemáticos mediante la simulación de variables aleatorias. Uno de los mas claros y evidentes ejemplos que encontramos en la vida cotidiana y que a la población en general le resulta conocido es la solución del juego clàsico de \"Batalla Naval\", el cual puede resolverse, evidentemente, mediante un algoritmo que incluya el método Montecarlo.\n",
    "\n",
    "La solución de dicho probelma será analizada y comparada para determinar las subsecuentes conclusiones puntuales"
   ]
  },
  {
   "cell_type": "markdown",
   "metadata": {},
   "source": [
    "\n",
    "## Objetivo Principal:\n",
    "\n",
    "- Mediante los conocimientos adquiridos en la clase de Simulación Matemática desarrollar un programa que modele una situación en donde podamos apreciar la importancia del uso de metodos de solución como el de Montecarlo (en este caso se valorará su aplicación en la resolución de la estrategia naval), poner en práctica los conocimientos adquiriros y adquirir información del análisis de los resultados obtenidos del presente proyecto.\n",
    "\n",
    "## Objetivos Metodológicos:\n",
    "\n",
    "- Desarrollar y codificar el llamado \"Juego de Batalla Naval\" , considerando un espacio de acción de 10 posiciones sobre el eje \"X\" por las 10 posisciones sobre el eje \"Y\" de las que precisa el juego clàsico. \n",
    "- Comparar la eficacia de las estrategias que permiten a los jugadores ganar la partida mediante la disposición \"aleatoria\" de las embarcaciones.\n",
    "- Aunado al punto anterior, nos planteamos conocer la eficacia del juego mediante una estrategia basada en la realización de disparos efectuada de manera aleatoria.\n",
    "- Graficar la información obtenida de las diferentes simulaciones con escenarios que permitan contrastar las diferentes estrategias.\n",
    "- Analizar y comparar resultados para así determinar conclusiones puntuales respecto al uso y mètodo que resulte mas eficiente en la práctica."
   ]
  },
  {
   "cell_type": "markdown",
   "metadata": {},
   "source": [
    "QUE TAL AMIGOS, CREO QUE CON EL SIGUIENTE CODIGO PODRÍAMOS TRABAJAR EN EL ANÀLISIS DE LOS RESULTADOS QUE SE OBTENDRÍAN DURANTE UNA PARTIDA COMUN DEL JUEGO, EL CODIGO PRESENTA LAS SIGUIENTES CARACTERISTICAS:\n",
    "- Cada jugador coloca sus barcos en las casillas del tablero (cada jugador tiene su propio tablero de 10×10).\n",
    "- Al inicio el jugador dice las coordenadas a la cual desea atacar (una letra entre la A y la i; un numero entre el 1 y 9)\n",
    "- Si en las coordenadas se encuentra un barco o parte de él, entonces el barco recibe el daño y el jugador da una nueva coordenada.\n",
    "- Si en las coordenadas no se encuentra un barco, entonces el otro jugador dice “AGUA” y habrá fallado el tiro.\n",
    "- Cuando un barco ha recibido un daño en cada casilla que ocupa, entonces el barco se habrá hundido. El otro jugador debe decir “BARCO HUNDIDO”.\n",
    "- Todas las coordenadas se marcan en el tablero para que no se repitan, cuando es una coordenada es un ataque del jugador se coloca un punto o un circulo. Cuando a coordenada es un ataque contra el jugador se marca equis en la casilla.\n",
    "- Cuando un jugador dice sus coordenadas termina su turno.\n",
    "\n",
    "AUTOMATICAMENTE LANZA UNA ESTRATEGIA ALEATORIA"
   ]
  },
  {
   "cell_type": "code",
   "execution_count": null,
   "metadata": {},
   "outputs": [
    {
     "name": "stdout",
     "output_type": "stream",
     "text": [
      "\n",
      "PRESIONA UNA LETRA INICIAR EL JUEGO: A\n",
      "===================== \n",
      " MAPA CON COORDENADAS\n",
      "=====================\n",
      "     A  B  C  D  E  F  G  H  I\n",
      "  1  -  -  -  -  -  -  -  -  -\n",
      "  2  -  -  -  -  -  -  -  -  -\n",
      "  3  -  -  -  -  -  -  -  -  -\n",
      "  4  -  -  -  -  -  -  -  -  -\n",
      "  5  -  -  -  -  -  -  -  -  -\n",
      "  6  -  -  -  -  -  -  -  -  -\n",
      "  7  -  -  -  -  -  -  -  -  -\n",
      "  8  -  -  -  -  -  -  -  -  -\n",
      "  9  -  -  -  -  -  -  -  -  -\n",
      "\n",
      "TIENES 15 INTENTOS, PARA UNDIR 5 BARCOS\n",
      "intento 1 Posicion(9,F) ___ Barco undido\n",
      "intento 2 Posicion(4,B) ___ Barco undido\n",
      "intento 3 Posicion(7,G) ___ Barco undido\n",
      "intento 4 Posicion(8,D) ___ AGUA\n",
      "intento 5 Posicion(4,A) ___ Barco undido\n",
      "intento 6 Posicion(4,H) ___ AGUA\n",
      "intento 7 Posicion(5,H) ___ AGUA\n",
      "intento 8 Posicion(8,E) ___ AGUA\n",
      "intento 9 Posicion(5,I) ___ AGUA\n",
      "intento 10 Posicion(2,D) ___ Barco undido\n",
      "intento 11 Posicion(6,B) ___ AGUA\n",
      "intento 12 Posicion(6,I) ___ AGUA\n",
      "intento 13 Posicion(6,F) ___ AGUA\n",
      "intento 14 Posicion(2,H) ___ AGUA\n",
      "intento 15 Posicion(1,H) ___ AGUA\n",
      "\n",
      " FELICIDADES, ACABAS DE UNDIR: 5 BARCOS\n",
      "     A  B  C  D  E  F  G  H  I\n",
      "  1  -  X  -  -  -  -  -  -  -\n",
      "  2  X  X  X  O  X  X  X  -  -\n",
      "  3  -  X  -  -  X  -  -  X  X\n",
      "  4  O  O  -  X  X  X  X  -  -\n",
      "  5  X  -  -  -  -  -  -  -  -\n",
      "  6  X  -  -  X  X  -  -  -  -\n",
      "  7  X  -  X  -  -  -  O  X  -\n",
      "  8  -  X  -  -  -  -  -  X  -\n",
      "  9  X  X  X  X  -  O  -  -  -\n",
      "\n"
     ]
    }
   ],
   "source": [
    "import random\n",
    "def todojuego():\n",
    "    def game1():\n",
    "        m=['-']*10\n",
    "        abc=[chr(i) for i in range(64,91)]\n",
    "        coord={'A':1,'B':2,'C':3,'D':4, 'E':5, 'F':6, 'G':7, 'H':8, 'I':9}\n",
    "        num=0\n",
    "        for fil in range(10):\n",
    "            m[fil]=['-']*10\n",
    "            for col in range(10):\n",
    "                m[0][col]=abc[col]\n",
    "        for i in range(10):\n",
    "            m[i][0],m[0][0]=str(num),' '\n",
    "            num+=1\n",
    "        return m,coord\n",
    "    mapa,letra=game1()\n",
    "    print('=====================','\\n','MAPA CON COORDENADAS'+'\\n'+'=====================')\n",
    "    for i in mapa:\n",
    "        print(' ','  '.join(i))\n",
    " \n",
    "    def fichas():\n",
    "        con=0\n",
    "        while con<40:\n",
    "            mapa[random.randint(1,9)][random.randint(1,9)]='X'\n",
    "            con+=1\n",
    "        return mapa\n",
    "    fichas()\n",
    "    def jugadas():\n",
    "        print('\\n'+'TIENES 15 INTENTOS, PARA UNDIR 5 BARCOS')\n",
    "        intento=0\n",
    "        elim=0\n",
    "        while intento<15:\n",
    "            intento+=1\n",
    "            #cambia los valores de 'fila' y 'mun' para ingresarlos manualmente\n",
    "            fila=random.randint(1,9)\n",
    "            num=(random.randint(65,73))\n",
    "            #fila=input('INGRESE FILA: ')\n",
    "            #num=input('INGRESE NUMERO: ')\n",
    "            colu=letra[chr(num)]\n",
    "            print('intento',intento,'Posicion('+str(fila)+','+chr(num)+')',end=' ___ ')\n",
    "            if mapa[fila][colu]=='X':\n",
    "                mapa[fila][colu]='O'\n",
    "                print('Barco undido')\n",
    "                elim+=1\n",
    "            else:\n",
    "                print('AGUA')\n",
    "        return mapa,elim\n",
    " \n",
    "    final,remo=jugadas()\n",
    "    if remo>=5:\n",
    "        print('\\n','FELICIDADES, ACABAS DE UNDIR:',remo,'BARCOS')\n",
    "    else:\n",
    "        print('\\n','PERDISTE, SOLO ELIMINASTE:',remo,'BARCOS')\n",
    "    for i in final:\n",
    "        print(' ','  '.join(i))\n",
    "letra=[chr(i) for i in range(65,91)]\n",
    "n='A'\n",
    "while n in letra:\n",
    "    print()\n",
    "    n=input('PRESIONA UNA LETRA INICIAR EL JUEGO: ').upper()\n",
    "    if n in letra:\n",
    "        todojuego()"
   ]
  },
  {
   "cell_type": "code",
   "execution_count": null,
   "metadata": {
    "collapsed": true
   },
   "outputs": [],
   "source": []
  },
  {
   "cell_type": "code",
   "execution_count": null,
   "metadata": {
    "collapsed": true
   },
   "outputs": [],
   "source": []
  },
  {
   "cell_type": "code",
   "execution_count": null,
   "metadata": {
    "collapsed": true
   },
   "outputs": [],
   "source": []
  },
  {
   "cell_type": "code",
   "execution_count": null,
   "metadata": {
    "collapsed": true
   },
   "outputs": [],
   "source": []
  },
  {
   "cell_type": "code",
   "execution_count": null,
   "metadata": {
    "collapsed": true
   },
   "outputs": [],
   "source": []
  },
  {
   "cell_type": "markdown",
   "metadata": {},
   "source": [
    "## LO SIGUIENTE SON ALGUNAS COSAS QUE ENCONTRAMOS Y UN CODIGO DE HECTOR QUE PODRIAN LLEGAR A SERVIR "
   ]
  },
  {
   "cell_type": "markdown",
   "metadata": {
    "collapsed": true
   },
   "source": [
    "##Proyecto externo de rerferencia:"
   ]
  },
  {
   "cell_type": "code",
   "execution_count": 1,
   "metadata": {},
   "outputs": [
    {
     "ename": "SyntaxError",
     "evalue": "invalid syntax (<ipython-input-1-b2239fb0daff>, line 10)",
     "output_type": "error",
     "traceback": [
      "\u001b[1;36m  File \u001b[1;32m\"<ipython-input-1-b2239fb0daff>\"\u001b[1;36m, line \u001b[1;32m10\u001b[0m\n\u001b[1;33m    print \" \".join(row)\u001b[0m\n\u001b[1;37m            ^\u001b[0m\n\u001b[1;31mSyntaxError\u001b[0m\u001b[1;31m:\u001b[0m invalid syntax\n"
     ]
    }
   ],
   "source": [
    "from random import randint\n",
    "\n",
    "board = []\n",
    "\n",
    "for x in range(5):\n",
    "    board.append([\"O\"] * 5)\n",
    "\n",
    "def print_board(board):\n",
    "    for row in board:\n",
    "        print \" \".join(row)\n",
    "\n",
    "print \"Vamos a jugar batalla naval!\"\n",
    "print_board(board)\n",
    "\n",
    "def random_row(board):\n",
    "    return randint(0, len(board) - 1)\n",
    "\n",
    "def random_col(board):\n",
    "    return randint(0, len(board[0]) - 1)\n",
    "\n",
    "ship_row = random_row(board)\n",
    "ship_col = random_col(board)\n",
    "print ship_row\n",
    "print ship_col\n",
    "\n",
    "# Everything from here on should go in your for loop!\n",
    "# Be sure to indent four spaces!\n",
    "for turn in range(4):\n",
    "    print \"Turn\", turn + 1\n",
    "    guess_row = int(raw_input(\"Adivina la fila:\"))\n",
    "    guess_col = int(raw_input(\"Adivina la columna:\"))\n",
    "\n",
    "    if guess_row == ship_row and guess_col == ship_col:\n",
    "        print \"Felicidades! Hundiste mi barco!\"\n",
    "        break\n",
    "    else:\n",
    "        if (guess_row < 0 or guess_row > 4) or (guess_col < 0 or guess_col > 4):\n",
    "            print \"Oops, eso no esta en el oceano\"\n",
    "        elif(board[guess_row][guess_col] == \"X\"):\n",
    "            print \"Ese ya lo habias adivinado!\"\n",
    "        else:\n",
    "            print \"Hundiste mi barco!\"\n",
    "            board[guess_row][guess_col] = \"X\"\n",
    "        # Print (turn + 1) here!\n",
    "        print_board(board)\n",
    "\n",
    "    if turn == 3:\n",
    "        print \"Perdiste\"\n"
   ]
  },
  {
   "cell_type": "markdown",
   "metadata": {},
   "source": [
    "Código propio:"
   ]
  },
  {
   "cell_type": "code",
   "execution_count": 2,
   "metadata": {
    "collapsed": true
   },
   "outputs": [],
   "source": [
    "import numpy as np\n",
    "import random as rd"
   ]
  },
  {
   "cell_type": "code",
   "execution_count": 15,
   "metadata": {},
   "outputs": [
    {
     "name": "stdout",
     "output_type": "stream",
     "text": [
      "['B', 'A', '*', '*', '*', '*', '*', '*', 'A', '*']\n",
      "['B', 'A', '*', '*', '*', '*', '*', '*', 'A', '*']\n",
      "['B', 'A', '*', '*', '*', '*', '*', '*', 'A', '*']\n",
      "['B', 'A', '*', '*', '*', '*', '*', '*', 'A', '*']\n",
      "['B', 'A', '*', '*', '*', '*', '*', '*', 'A', '*']\n",
      "['B', 'A', '*', '*', '*', '*', '*', '*', 'A', '*']\n",
      "['B', 'A', '*', '*', '*', '*', '*', '*', 'A', '*']\n",
      "['B', 'A', '*', '*', '*', '*', '*', '*', 'A', '*']\n",
      "['B', 'A', '*', '*', '*', '*', '*', '*', 'A', '*']\n",
      "['B', 'A', '*', '*', '*', '*', '*', '*', 'A', '*']\n"
     ]
    }
   ],
   "source": [
    "tablero=[\"*\"]*10\n",
    "for i in range (10):\n",
    "    tablero[i]=[\"*\"]*10\n",
    "for x in range (10):\n",
    "    for y in range (10):\n",
    "        if (y==1 or y==8):\n",
    "            tablero[x][y]=\"A\"\n",
    "        elif((x==0 or x==9)and(y==0 or y==10)):\n",
    "            tablero[x][y]=\"B\"        \n",
    "        elif((x==1 or x==8)and(y==0 or y==10)):\n",
    "            tablero[x][y]=\"C\"\n",
    "        elif((x==2 or x==7)and(y==0 or y==10)):\n",
    "            tablero[x][y]=\"D\"\n",
    "        elif((x==3 or x==6)and(y==0 or y==10)):\n",
    "            tablero[x][y]=\"E\"\n",
    "        elif((x==4 or x==5)and(y==0 or y==10)):\n",
    "            tablero[x][y]=\"F\"\n",
    "        elif((x==5 or x==4)and(y==0 or y==10)):\n",
    "            tablero[x][y]=\"G\"\n",
    "        elif((x==6 or x==3)and(y==0 or y==10)):\n",
    "            tablero[x][y]=\"H\"\n",
    "        elif((x==7 or x==2)and(y==0 or y==10)):\n",
    "            tablero[x][y]=\"I\"\n",
    "        elif((x==8 or x==1)and(y==0 or y==10)):\n",
    "            tablero[x][y]=\"J\"\n",
    "        elif(x==9 and(y==0 or y==10)):\n",
    "            tablero[x][y]=\"K\"\n",
    "        elif(x==10 and(y==0 or y==10)):\n",
    "            tablero[x][y]=\"L\"\n",
    "for i in range(len(tablero)):\n",
    "    print(tablero[x])\n",
    "    "
   ]
  },
  {
   "cell_type": "code",
   "execution_count": 27,
   "metadata": {
    "collapsed": true
   },
   "outputs": [],
   "source": [
    "N=100\n",
    "M=100\n",
    "def crearLista(N):\n",
    "    L = [ ]\n",
    "    for i in range(N):\n",
    "        L.append(random.randint(0,100))\n",
    "    return L\n",
    " \n",
    "def CreaMatriz(N,M):\n",
    "    Matriz = [ ]\n",
    "    for i in range(N):\n",
    "        Matriz.append(crearLista(M))\n",
    "    for i in range(N):\n",
    "        Fila = \"\"\n",
    "        for j in range(M):\n",
    "            Espacios = ' ' * (5-len(str(Matriz[i][j])))\n",
    "            Fila = Fila + Espacios + str(Matriz[i][j])\n",
    "        print (Fila)\n",
    "    return Matriz"
   ]
  },
  {
   "cell_type": "code",
   "execution_count": 30,
   "metadata": {},
   "outputs": [
    {
     "data": {
      "text/plain": [
       "<function __main__.CreaMatriz>"
      ]
     },
     "execution_count": 30,
     "metadata": {},
     "output_type": "execute_result"
    }
   ],
   "source": [
    "CreaMatriz"
   ]
  },
  {
   "cell_type": "code",
   "execution_count": 32,
   "metadata": {
    "collapsed": true
   },
   "outputs": [],
   "source": [
    "numero_filas=100\n",
    "numero_columnas=100\n",
    "matriz = []\n",
    "for i in range(numero_filas):\n",
    "    matriz.append([])\n",
    "    for j in range(numero_columnas):\n",
    "        matriz[i].append(None)\n",
    "        \n"
   ]
  },
  {
   "cell_type": "code",
   "execution_count": null,
   "metadata": {
    "collapsed": true
   },
   "outputs": [],
   "source": []
  }
 ],
 "metadata": {
  "kernelspec": {
   "display_name": "Python 3",
   "language": "python",
   "name": "python3"
  },
  "language_info": {
   "codemirror_mode": {
    "name": "ipython",
    "version": 3
   },
   "file_extension": ".py",
   "mimetype": "text/x-python",
   "name": "python",
   "nbconvert_exporter": "python",
   "pygments_lexer": "ipython3",
   "version": "3.6.1"
  }
 },
 "nbformat": 4,
 "nbformat_minor": 2
}
