{
 "cells": [
  {
   "cell_type": "markdown",
   "metadata": {},
   "source": [
    "# Batalla Naval\n",
    "\n",
    "## Hecho por:\n",
    "- Héctor Ulises Escoto González\n",
    "- Jorge Diego Sayavedra Godinez\n",
    "- Carlos Adrian Tinajero Velazco"
   ]
  },
  {
   "cell_type": "markdown",
   "metadata": {},
   "source": [
    "\n",
    "## Introducción:\n",
    "\n",
    "Las variadas aplicaciones que conllevan la utilización de metodos de resolución numérica a través de aproximaciónes matemáticas nos permiten conocer la solución de diversos ploblemas envueltos en la vida cotidiana, y así establecer una rigutosa metodología para crear programas que permitan resolver dichas problemàticas de una manera rápida y precisa.\n",
    "\n",
    "Es pues, el método no determinista o estadístico numérico de Montecarlo una solución que permite resolver problemas físicos y matemáticos mediante la simulación de variables aleatorias. Uno de los mas claros y evidentes ejemplos que encontramos en la vida cotidiana y que a la población en general le resulta conocido es la solución del juego clàsico de \"Batalla Naval\", el cual puede resolverse, evidentemente, mediante un algoritmo que incluya el método Montecarlo.\n",
    "\n",
    "La solución de dicho probelma será analizada y comparada para determinar las subsecuentes conclusiones puntuales"
   ]
  },
  {
   "cell_type": "markdown",
   "metadata": {},
   "source": [
    "\n",
    "## Objetivo Principal:\n",
    "\n",
    "- Mediante los conocimientos adquiridos en la clase de Simulación Matemática desarrollar un programa que modele una situación en donde podamos apreciar la importancia del uso de metodos de solución como el de Montecarlo (en este caso se valorará su aplicación en la resolución de la estrategia naval), poner en práctica los conocimientos adquiriros y adquirir información del análisis de los resultados obtenidos del presente proyecto.\n",
    "\n",
    "## Objetivos Metodológicos:\n",
    "\n",
    "- Desarrollar y codificar el llamado \"Juego de Batalla Naval\" , considerando un espacio de acción de 10 posiciones sobre el eje \"X\" por las 10 posisciones sobre el eje \"Y\" de las que precisa el juego clàsico. \n",
    "- Comparar la eficacia de las estrategias que permiten a los jugadores ganar la partida mediante la disposición \"aleatoria\" de las embarcaciones.\n",
    "- Aunado al punto anterior, nos planteamos conocer la eficacia del juego mediante una estrategia basada en la realización de disparos efectuada de manera aleatoria.\n",
    "- Graficar la información obtenida de las diferentes simulaciones con escenarios que permitan contrastar las diferentes estrategias.\n",
    "- Analizar y comparar resultados para así determinar conclusiones puntuales respecto al uso y mètodo que resulte mas eficiente en la práctica."
   ]
  },
  {
   "cell_type": "code",
   "execution_count": null,
   "metadata": {
    "collapsed": true
   },
   "outputs": [],
   "source": []
  }
 ],
 "metadata": {
  "kernelspec": {
   "display_name": "Python 3",
   "language": "python",
   "name": "python3"
  },
  "language_info": {
   "codemirror_mode": {
    "name": "ipython",
    "version": 3
   },
   "file_extension": ".py",
   "mimetype": "text/x-python",
   "name": "python",
   "nbconvert_exporter": "python",
   "pygments_lexer": "ipython3",
   "version": "3.6.1"
  }
 },
 "nbformat": 4,
 "nbformat_minor": 2
}
